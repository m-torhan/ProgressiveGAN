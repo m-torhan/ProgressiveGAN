{
 "cells": [
  {
   "cell_type": "code",
   "execution_count": null,
   "metadata": {},
   "outputs": [],
   "source": [
    "import tensorflow as tf\n",
    "import tensorflow.keras as keras\n",
    "from keras.layers import Conv2D, Conv2DTranspose, UpSampling2D, MaxPool2D, Input\n",
    "\n",
    "import numpy as np\n",
    "\n",
    "import matplotlib.pyplot as plt\n",
    "\n",
    "import cv2\n",
    "\n",
    "import os"
   ]
  },
  {
   "cell_type": "code",
   "execution_count": null,
   "metadata": {},
   "outputs": [],
   "source": [
    "class Combine(keras.layers.Layer):\n",
    "    def __init__(self):\n",
    "        super(Combine, self).__init__()\n",
    "\n",
    "    def build(self, input_shape):\n",
    "        self.alpha = tf.Variable(initial_value=tf.zeros_initializer()(shape=(1,), dtype=\"float32\"), trainable=False)\n",
    "        \n",
    "    def get_config(self):\n",
    "        config = super(Combine, self).get_config().copy()\n",
    "        return config\n",
    "\n",
    "    def call(self, inputs):\n",
    "        return self.alpha*inputs[0] + (1 - self.alpha)*inputs[1]"
   ]
  },
  {
   "cell_type": "code",
   "execution_count": null,
   "metadata": {},
   "outputs": [],
   "source": [
    "class ProgressiveGAN(object):\n",
    "    def __init__(self, latent_dim=128, initial_image_size=4):\n",
    "        self.__latent_dim = 128\n",
    "        self.__initial_image_size=4\n",
    "\n",
    "        self.__discriminator_input = None\n",
    "        self.__generator_output = None\n",
    "\n",
    "        self.__input_combine_layer = None\n",
    "        self.__output_combine_layer = None\n",
    "\n",
    "        self.__generator = self.__init_generator()\n",
    "        self.__discriminator = self.__init_discriminator()\n",
    "        self.__gan = self.__init_gan()\n",
    "    \n",
    "    def fit(self, image_generator, lr=.01):\n",
    "        pass\n",
    "\n",
    "    def __init_generator(self):\n",
    "        pass\n",
    "\n",
    "    def __init_discriminator(self):\n",
    "        pass\n",
    "    \n",
    "    def __init_gan(self):\n",
    "        pass"
   ]
  }
 ],
 "metadata": {
  "kernelspec": {
   "display_name": "Python 3.10.2 64-bit",
   "language": "python",
   "name": "python3"
  },
  "language_info": {
   "codemirror_mode": {
    "name": "ipython",
    "version": 3
   },
   "file_extension": ".py",
   "mimetype": "text/x-python",
   "name": "python",
   "nbconvert_exporter": "python",
   "pygments_lexer": "ipython3",
   "version": "3.10.2"
  },
  "orig_nbformat": 4,
  "vscode": {
   "interpreter": {
    "hash": "369f2c481f4da34e4445cda3fffd2e751bd1c4d706f27375911949ba6bb62e1c"
   }
  }
 },
 "nbformat": 4,
 "nbformat_minor": 2
}
