{
 "cells": [
  {
   "cell_type": "code",
   "execution_count": null,
   "metadata": {},
   "outputs": [],
   "source": [
    "import tensorflow as tf\n",
    "import tensorflow.keras as keras\n",
    "import tensorflow.keras.backend as K\n",
    "from tensorflow.python.ops import summary_ops_v2\n",
    "from tensorflow.python.keras.callbacks import keras_model_summary\n",
    "from keras.layers import Conv2D, Conv2DTranspose, UpSampling2D, MaxPool2D, Input, Dense, Flatten, Dropout, Concatenate, Layer, LeakyReLU, Reshape, AveragePooling2D, Add\n",
    "\n",
    "import numpy as np\n",
    "\n",
    "import matplotlib.pyplot as plt\n",
    "\n",
    "import cv2\n",
    "\n",
    "import os\n",
    "import datetime\n",
    "from time import perf_counter, sleep\n",
    "import threading\n",
    "import traceback\n",
    "\n",
    "from random import sample\n",
    "\n",
    "from functools import partial"
   ]
  },
  {
   "cell_type": "code",
   "execution_count": null,
   "metadata": {},
   "outputs": [],
   "source": [
    "from progressive_gan import ProgressiveGAN\n",
    "from utils import ImageGenerator, TensorBoardCallback"
   ]
  },
  {
   "cell_type": "code",
   "execution_count": null,
   "metadata": {},
   "outputs": [],
   "source": [
    "img_gen = ImageGenerator(r'E:\\Workspace\\datasets\\cats\\train', batch_size=16, image_channels=3) # r'E:\\Workspace\\datasets\\b\\train_1\\512'E:\\Workspace\\datasets\\cats\\train'"
   ]
  },
  {
   "cell_type": "code",
   "execution_count": null,
   "metadata": {},
   "outputs": [],
   "source": [
    "# optimizer = keras.optimizers.Adam(learning_rate=5e-6, beta_1=0., beta_2=.99, epsilon=1e-8)\n",
    "optimizer = keras.optimizers.RMSprop(learning_rate=1e-4)\n",
    "\n",
    "progan = ProgressiveGAN(\n",
    "    latent_dim=128,\n",
    "    initial_image_size=4,\n",
    "    final_image_size=128,\n",
    "    image_channels=3,\n",
    "    discriminator_optimizer=optimizer,\n",
    "    gan_optimizer=optimizer)\n",
    "\n",
    "tensorboard_callback = TensorBoardCallback('./logs', progan, image_generator_preview_save_interval=100, use_tensorboard=False)\n",
    "\n",
    "progan.fit(img_gen, epochs_per_step=[1000, 2000, 3000, 6000, 8000, 10000], discriminator_train_per_gan_train=1, tensorboard_callback=tensorboard_callback)"
   ]
  },
  {
   "cell_type": "code",
   "execution_count": null,
   "metadata": {},
   "outputs": [],
   "source": [
    "# batch = np.concatenate([img_gen.get_batch(), img_gen.get_batch()], axis=0)\n",
    "# print(batch.shape)\n",
    "# print(batch.min())\n",
    "# print(batch.max())\n",
    "\n",
    "# plt.figure(figsize=(16, 8))\n",
    "\n",
    "# plt.imshow(np.vstack([np.hstack([batch[i + 8*j] for i in range(8)]) for j in range(4)])/2 + .5)\n",
    "\n",
    "# plt.show()"
   ]
  },
  {
   "cell_type": "code",
   "execution_count": null,
   "metadata": {},
   "outputs": [],
   "source": [
    "\n",
    "latent_noise = progan.sample_latent_space(8)\n",
    "\n",
    "generated_images = np.zeros((8*len(progan.generator), 32, 32, 3))\n",
    "for i in range(len(progan.generator)):\n",
    "    g = progan.generator[i][0].predict(latent_noise)\n",
    "    for j in range(8):\n",
    "        img = g[j,]\n",
    "        img = (img + 1.)/2.\n",
    "        generated_images[8*i + j,] = cv2.resize(img, (32, 32), interpolation=cv2.INTER_NEAREST)\n",
    "    \n",
    "print(generated_images.shape)\n",
    "print(generated_images.min())\n",
    "print(generated_images.max())\n",
    "\n",
    "plt.figure(figsize=(16, 2*len(progan.generator)))\n",
    "\n",
    "plt.imshow(np.vstack([np.hstack([generated_images[i + 8*j] for i in range(8)]) for j in range(len(progan.generator))])/2 + .5, interpolation=None)\n",
    "\n",
    "plt.show()"
   ]
  },
  {
   "cell_type": "code",
   "execution_count": null,
   "metadata": {},
   "outputs": [],
   "source": [
    "progan.generator[-1][0].save('./model/generator_cats.h5')"
   ]
  }
 ],
 "metadata": {
  "kernelspec": {
   "display_name": "Python 3.10.2 64-bit",
   "language": "python",
   "name": "python3"
  },
  "language_info": {
   "codemirror_mode": {
    "name": "ipython",
    "version": 3
   },
   "file_extension": ".py",
   "mimetype": "text/x-python",
   "name": "python",
   "nbconvert_exporter": "python",
   "pygments_lexer": "ipython3",
   "version": "3.10.2"
  },
  "orig_nbformat": 4,
  "vscode": {
   "interpreter": {
    "hash": "369f2c481f4da34e4445cda3fffd2e751bd1c4d706f27375911949ba6bb62e1c"
   }
  }
 },
 "nbformat": 4,
 "nbformat_minor": 2
}
