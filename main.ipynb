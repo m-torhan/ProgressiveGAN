{
 "cells": [
  {
   "cell_type": "code",
   "execution_count": null,
   "metadata": {},
   "outputs": [],
   "source": [
    "import tensorflow as tf\n",
    "import tensorflow.keras as keras\n",
    "import tensorflow.keras.backend as K\n",
    "from tensorflow.python.ops import summary_ops_v2\n",
    "from tensorflow.python.keras.callbacks import keras_model_summary\n",
    "from keras.layers import Conv2D, Conv2DTranspose, UpSampling2D, MaxPool2D, Input, Dense, Flatten, Dropout, Concatenate, Layer, LeakyReLU, Reshape, AveragePooling2D, Add\n",
    "\n",
    "import numpy as np\n",
    "\n",
    "import matplotlib.pyplot as plt\n",
    "\n",
    "import cv2\n",
    "\n",
    "import os\n",
    "import datetime\n",
    "from time import perf_counter, sleep\n",
    "import threading\n",
    "import traceback\n",
    "\n",
    "from random import sample\n",
    "\n",
    "from functools import partial"
   ]
  },
  {
   "cell_type": "code",
   "execution_count": null,
   "metadata": {},
   "outputs": [],
   "source": [
    "from tensorflow.python.framework.ops import disable_eager_execution\n",
    "\n",
    "disable_eager_execution()"
   ]
  },
  {
   "cell_type": "code",
   "execution_count": null,
   "metadata": {},
   "outputs": [],
   "source": [
    "from progressive_gan import ProgressiveGAN\n",
    "from utils import ImageGenerator, TensorBoardCallback, FitCheckpoint"
   ]
  },
  {
   "cell_type": "code",
   "execution_count": null,
   "metadata": {},
   "outputs": [],
   "source": [
    "img_gen = ImageGenerator(r'E:\\Workspace\\datasets\\cats\\train',\n",
    "                         batch_size=128, image_channels=3, fade=True,\n",
    "                         preload_images=True, preload_images_size=128) # r'E:\\Workspace\\datasets\\b\\train_1\\512'E:\\Workspace\\datasets\\cats\\train'E:\\Workspace\\datasets\\mnist_imgs'"
   ]
  },
  {
   "cell_type": "code",
   "execution_count": null,
   "metadata": {},
   "outputs": [],
   "source": [
    "optimizer = keras.optimizers.Adam(learning_rate=1e-5, beta_1=0., beta_2=.99, epsilon=1e-8)\n",
    "# optimizer = keras.optimizers.RMSprop(learning_rate=5e-5)\n",
    "\n",
    "progan = ProgressiveGAN(\n",
    "    latent_dim=512,\n",
    "    initial_image_size=4,\n",
    "    final_image_size=128,\n",
    "    image_channels=3,\n",
    "    discriminator_optimizer=optimizer,\n",
    "    gan_optimizer=optimizer)\n",
    "\n",
    "tensorboard_callback = TensorBoardCallback('./logs', progan, image_generator_preview_save_interval=500, frame_generator_preview_save_interval=50, use_tensorboard=False)\n",
    "\n",
    "progan.fit(img_gen, batches_per_step=100000, discriminator_train_per_gan_train=1, checkpoint_save_interval=10000, tensorboard_callback=tensorboard_callback)"
   ]
  },
  {
   "cell_type": "code",
   "execution_count": null,
   "metadata": {},
   "outputs": [],
   "source": [
    "checkpoint_idx = 1\n",
    "\n",
    "optimizer = keras.optimizers.RMSprop(learning_rate=2e-5)\n",
    "\n",
    "loaded_progan = ProgressiveGAN.load(\n",
    "    f'./model/model_checkpoint_{checkpoint_idx}/',\n",
    "    discriminator_optimizer=optimizer,\n",
    "    gan_optimizer=optimizer)\n",
    "\n",
    "loaded_checkpoint = FitCheckpoint.load(f'./fit_checkpoints/checkpoint_{checkpoint_idx}/')\n",
    "\n",
    "tensorboard_callback = TensorBoardCallback('./logs', loaded_progan, image_generator_preview_save_interval=500, frame_generator_preview_save_interval=50, use_tensorboard=False)\n",
    "\n",
    "loaded_progan.resume_fit_from_checkpoint(loaded_checkpoint, image_generator=img_gen, tensorboard_callback=tensorboard_callback)"
   ]
  },
  {
   "cell_type": "code",
   "execution_count": null,
   "metadata": {},
   "outputs": [],
   "source": [
    "# batch = np.concatenate([img_gen.get_batch(), img_gen.get_batch()], axis=0)\n",
    "# print(batch.shape)\n",
    "# print(batch.min())\n",
    "# print(batch.max())\n",
    "\n",
    "# plt.figure(figsize=(16, 8))\n",
    "\n",
    "# plt.imshow(np.vstack([np.hstack([batch[i + 8*j] for i in range(8)]) for j in range(4)])/2 + .5)\n",
    "\n",
    "# plt.show()"
   ]
  },
  {
   "cell_type": "code",
   "execution_count": null,
   "metadata": {},
   "outputs": [],
   "source": [
    "\n",
    "latent_noise = progan.sample_latent_space(8)\n",
    "\n",
    "generated_images = np.zeros((8*len(progan.generator), 32, 32, 3))\n",
    "for i in range(len(progan.generator)):\n",
    "    g = progan.generator[i][0].predict(latent_noise)\n",
    "    for j in range(8):\n",
    "        img = g[j,]\n",
    "        img = (img + 1.)/2.\n",
    "        generated_images[8*i + j,] = cv2.resize(img, (32, 32), interpolation=cv2.INTER_NEAREST)\n",
    "    \n",
    "print(generated_images.shape)\n",
    "print(generated_images.min())\n",
    "print(generated_images.max())\n",
    "\n",
    "plt.figure(figsize=(16, 2*len(progan.generator)))\n",
    "\n",
    "plt.imshow(np.vstack([np.hstack([generated_images[i + 8*j] for i in range(8)]) for j in range(len(progan.generator))])/2 + .5, interpolation=None)\n",
    "\n",
    "plt.show()"
   ]
  }
 ],
 "metadata": {
  "kernelspec": {
   "display_name": "Python 3.10.2 64-bit",
   "language": "python",
   "name": "python3"
  },
  "language_info": {
   "codemirror_mode": {
    "name": "ipython",
    "version": 3
   },
   "file_extension": ".py",
   "mimetype": "text/x-python",
   "name": "python",
   "nbconvert_exporter": "python",
   "pygments_lexer": "ipython3",
   "version": "3.10.2"
  },
  "orig_nbformat": 4,
  "vscode": {
   "interpreter": {
    "hash": "369f2c481f4da34e4445cda3fffd2e751bd1c4d706f27375911949ba6bb62e1c"
   }
  }
 },
 "nbformat": 4,
 "nbformat_minor": 2
}
