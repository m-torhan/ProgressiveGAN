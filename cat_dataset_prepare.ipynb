{
 "cells": [
  {
   "cell_type": "code",
   "execution_count": 3,
   "metadata": {},
   "outputs": [],
   "source": [
    "import numpy as np\n",
    "import cv2\n",
    "\n",
    "import matplotlib.pyplot as plt\n",
    "\n",
    "import os"
   ]
  },
  {
   "cell_type": "code",
   "execution_count": 2,
   "metadata": {},
   "outputs": [],
   "source": [
    "dataset_path = r'E:\\Workspace\\datasets\\cats'"
   ]
  },
  {
   "cell_type": "code",
   "execution_count": 9,
   "metadata": {},
   "outputs": [
    {
     "name": "stdout",
     "output_type": "stream",
     "text": [
      "9993\n"
     ]
    }
   ],
   "source": [
    "filenames_raw = []\n",
    "\n",
    "for _, _, fnames in os.walk(os.path.join(dataset_path, 'raw')):\n",
    "    for fname in fnames:\n",
    "        if fname.split(os.path.extsep)[-1] == 'jpg':\n",
    "            filenames_raw.append(fname)\n",
    "    \n",
    "    break\n",
    "    \n",
    "print(len(filenames_raw))"
   ]
  },
  {
   "cell_type": "code",
   "execution_count": 41,
   "metadata": {},
   "outputs": [],
   "source": [
    "for filename_raw in filenames_raw:\n",
    "    img_raw = cv2.imread(os.path.join(dataset_path, 'raw', filename_raw))\n",
    "    img_raw_data = []\n",
    "    with open(os.path.join(dataset_path, 'raw', filename_raw + '.cat'), 'r') as datafile:\n",
    "        img_raw_data = list(map(int, datafile.read().split()))\n",
    "    \n",
    "    if len(img_raw_data) < 5:\n",
    "        continue\n",
    "    \n",
    "    p0 = np.array(img_raw_data[1:3], dtype=np.int32)\n",
    "    p1 = np.array(img_raw_data[3:5], dtype=np.int32)\n",
    "    dp = p1 - p0\n",
    "    \n",
    "    normal = np.array((0, 0), dtype=np.int32)\n",
    "    normal[0] = dp[1]\n",
    "    normal[1] = -dp[0]\n",
    "    mid = (p0 + p1)/2\n",
    "\n",
    "    c = 2\n",
    "\n",
    "    rect = [\n",
    "        mid + c*( - dp - normal),\n",
    "        mid + c*( - dp + normal),\n",
    "        mid + c*( + dp + normal),\n",
    "        mid + c*( + dp - normal)\n",
    "        ] \n",
    "\n",
    "    src = np.array(rect, dtype=np.float32)\n",
    "\n",
    "    rect_side_length = (((rect[0] - rect[1])**2).sum())**.5\n",
    "\n",
    "    out_size = 256\n",
    "\n",
    "    dst = np.array([(0, out_size), (0, 0), (out_size, 0), (out_size, out_size)], dtype=np.float32)\n",
    "\n",
    "    M = cv2.getPerspectiveTransform(src, dst)\n",
    "\n",
    "    img_pocessed = cv2.warpPerspective(img_raw, M, (out_size, out_size))\n",
    "    \n",
    "    cv2.imwrite(os.path.join(dataset_path, 'train', filename_raw), img_pocessed)\n"
   ]
  },
  {
   "cell_type": "code",
   "execution_count": null,
   "metadata": {},
   "outputs": [],
   "source": []
  }
 ],
 "metadata": {
  "kernelspec": {
   "display_name": "Python 3.10.2 64-bit",
   "language": "python",
   "name": "python3"
  },
  "language_info": {
   "codemirror_mode": {
    "name": "ipython",
    "version": 3
   },
   "file_extension": ".py",
   "mimetype": "text/x-python",
   "name": "python",
   "nbconvert_exporter": "python",
   "pygments_lexer": "ipython3",
   "version": "3.10.2"
  },
  "orig_nbformat": 4,
  "vscode": {
   "interpreter": {
    "hash": "369f2c481f4da34e4445cda3fffd2e751bd1c4d706f27375911949ba6bb62e1c"
   }
  }
 },
 "nbformat": 4,
 "nbformat_minor": 2
}
